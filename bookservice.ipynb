{
 "cells": [
  {
   "cell_type": "markdown",
   "metadata": {},
   "source": [
    "# Проект по SQL"
   ]
  },
  {
   "cell_type": "markdown",
   "metadata": {},
   "source": [
    "## Описание проекта"
   ]
  },
  {
   "cell_type": "markdown",
   "metadata": {},
   "source": [
    "Коронавирус застал мир врасплох, изменив привычный порядок вещей. На какое-то время жители городов перестали выходить на улицу, посещать кафе и торговые центры. Зато стало больше времени для книг. Это заметили стартаперы — и бросились создавать приложения для тех, кто любит читать.\n",
    "\n",
    "Ваша компания решила быть на волне и купила крупный сервис для чтения книг по подписке. Ваша первая задача как аналитика — проанализировать базу данных.\n",
    "В ней — информация о книгах, издательствах, авторах, а также пользовательские обзоры книг. Эти данные помогут сформулировать ценностное предложение для нового продукта."
   ]
  },
  {
   "cell_type": "markdown",
   "metadata": {},
   "source": [
    "## Поставленные задачи"
   ]
  },
  {
   "cell_type": "markdown",
   "metadata": {},
   "source": [
    "1. Посчитайте, сколько книг вышло после 1 января 2000 года;\n",
    "2. Для каждой книги посчитайте количество обзоров и среднюю оценку;\n",
    "3. Определите издательство, которое выпустило наибольшее число книг толще 50 страниц — так вы исключите из анализа брошюры;\n",
    "4. Определите автора с самой высокой средней оценкой книг — учитывайте только книги с 50 и более оценками;\n",
    "5. Посчитайте среднее количество обзоров от пользователей, которые поставили больше 48 оценок."
   ]
  },
  {
   "cell_type": "markdown",
   "metadata": {},
   "source": [
    "## Анализ данных"
   ]
  },
  {
   "cell_type": "code",
   "execution_count": 1,
   "metadata": {},
   "outputs": [],
   "source": [
    "# импортируем библиотеки\n",
    "import pandas as pd\n",
    "from sqlalchemy import text, create_engine"
   ]
  },
  {
   "cell_type": "code",
   "execution_count": 2,
   "metadata": {},
   "outputs": [],
   "source": [
    "# устанавливаем параметры\n",
    "db_config = {'user': 'praktikum_student', # имя пользователя\n",
    "'pwd': 'Sdf4$2;d-d30pp', # пароль\n",
    "'host': 'rc1b-wcoijxj3yxfsf3fs.mdb.yandexcloud.net',\n",
    "'port': 6432, # порт подключения\n",
    "'db': 'data-analyst-final-project-db'} # название базы данных\n",
    "connection_string = 'postgresql://{user}:{pwd}@{host}:{port}/{db}'.format(**db_config)"
   ]
  },
  {
   "cell_type": "code",
   "execution_count": 3,
   "metadata": {},
   "outputs": [],
   "source": [
    "# сохраняем коннектор\n",
    "engine = create_engine(connection_string, connect_args={'sslmode':'require'})"
   ]
  },
  {
   "cell_type": "code",
   "execution_count": 4,
   "metadata": {},
   "outputs": [
    {
     "data": {
      "text/html": [
       "<div>\n",
       "<style scoped>\n",
       "    .dataframe tbody tr th:only-of-type {\n",
       "        vertical-align: middle;\n",
       "    }\n",
       "\n",
       "    .dataframe tbody tr th {\n",
       "        vertical-align: top;\n",
       "    }\n",
       "\n",
       "    .dataframe thead th {\n",
       "        text-align: right;\n",
       "    }\n",
       "</style>\n",
       "<table border=\"1\" class=\"dataframe\">\n",
       "  <thead>\n",
       "    <tr style=\"text-align: right;\">\n",
       "      <th></th>\n",
       "      <th>book_id</th>\n",
       "      <th>author_id</th>\n",
       "      <th>title</th>\n",
       "      <th>num_pages</th>\n",
       "      <th>publication_date</th>\n",
       "      <th>publisher_id</th>\n",
       "    </tr>\n",
       "  </thead>\n",
       "  <tbody>\n",
       "    <tr>\n",
       "      <th>0</th>\n",
       "      <td>1</td>\n",
       "      <td>546</td>\n",
       "      <td>'Salem's Lot</td>\n",
       "      <td>594</td>\n",
       "      <td>2005-11-01</td>\n",
       "      <td>93</td>\n",
       "    </tr>\n",
       "    <tr>\n",
       "      <th>1</th>\n",
       "      <td>2</td>\n",
       "      <td>465</td>\n",
       "      <td>1 000 Places to See Before You Die</td>\n",
       "      <td>992</td>\n",
       "      <td>2003-05-22</td>\n",
       "      <td>336</td>\n",
       "    </tr>\n",
       "    <tr>\n",
       "      <th>2</th>\n",
       "      <td>3</td>\n",
       "      <td>407</td>\n",
       "      <td>13 Little Blue Envelopes (Little Blue Envelope...</td>\n",
       "      <td>322</td>\n",
       "      <td>2010-12-21</td>\n",
       "      <td>135</td>\n",
       "    </tr>\n",
       "    <tr>\n",
       "      <th>3</th>\n",
       "      <td>4</td>\n",
       "      <td>82</td>\n",
       "      <td>1491: New Revelations of the Americas Before C...</td>\n",
       "      <td>541</td>\n",
       "      <td>2006-10-10</td>\n",
       "      <td>309</td>\n",
       "    </tr>\n",
       "    <tr>\n",
       "      <th>4</th>\n",
       "      <td>5</td>\n",
       "      <td>125</td>\n",
       "      <td>1776</td>\n",
       "      <td>386</td>\n",
       "      <td>2006-07-04</td>\n",
       "      <td>268</td>\n",
       "    </tr>\n",
       "  </tbody>\n",
       "</table>\n",
       "</div>"
      ],
      "text/plain": [
       "   book_id  author_id                                              title  \\\n",
       "0        1        546                                       'Salem's Lot   \n",
       "1        2        465                 1 000 Places to See Before You Die   \n",
       "2        3        407  13 Little Blue Envelopes (Little Blue Envelope...   \n",
       "3        4         82  1491: New Revelations of the Americas Before C...   \n",
       "4        5        125                                               1776   \n",
       "\n",
       "   num_pages publication_date  publisher_id  \n",
       "0        594       2005-11-01            93  \n",
       "1        992       2003-05-22           336  \n",
       "2        322       2010-12-21           135  \n",
       "3        541       2006-10-10           309  \n",
       "4        386       2006-07-04           268  "
      ]
     },
     "execution_count": 4,
     "metadata": {},
     "output_type": "execute_result"
    }
   ],
   "source": [
    "# чтобы выполнить SQL-запрос, используем Pandas\n",
    "query = '''SELECT * FROM books LIMIT 5'''\n",
    "con=engine.connect()\n",
    "pd.io.sql.read_sql(sql=text(query), con = con)"
   ]
  },
  {
   "cell_type": "markdown",
   "metadata": {},
   "source": [
    "Запрос для получения списка всех таблиц:"
   ]
  },
  {
   "cell_type": "code",
   "execution_count": 5,
   "metadata": {},
   "outputs": [
    {
     "data": {
      "text/html": [
       "<div>\n",
       "<style scoped>\n",
       "    .dataframe tbody tr th:only-of-type {\n",
       "        vertical-align: middle;\n",
       "    }\n",
       "\n",
       "    .dataframe tbody tr th {\n",
       "        vertical-align: top;\n",
       "    }\n",
       "\n",
       "    .dataframe thead th {\n",
       "        text-align: right;\n",
       "    }\n",
       "</style>\n",
       "<table border=\"1\" class=\"dataframe\">\n",
       "  <thead>\n",
       "    <tr style=\"text-align: right;\">\n",
       "      <th></th>\n",
       "      <th>table_name</th>\n",
       "    </tr>\n",
       "  </thead>\n",
       "  <tbody>\n",
       "    <tr>\n",
       "      <th>0</th>\n",
       "      <td>advertisment_costs</td>\n",
       "    </tr>\n",
       "    <tr>\n",
       "      <th>1</th>\n",
       "      <td>author</td>\n",
       "    </tr>\n",
       "    <tr>\n",
       "      <th>2</th>\n",
       "      <td>authors</td>\n",
       "    </tr>\n",
       "    <tr>\n",
       "      <th>3</th>\n",
       "      <td>books</td>\n",
       "    </tr>\n",
       "    <tr>\n",
       "      <th>4</th>\n",
       "      <td>orders</td>\n",
       "    </tr>\n",
       "    <tr>\n",
       "      <th>5</th>\n",
       "      <td>publishers</td>\n",
       "    </tr>\n",
       "    <tr>\n",
       "      <th>6</th>\n",
       "      <td>ratings</td>\n",
       "    </tr>\n",
       "    <tr>\n",
       "      <th>7</th>\n",
       "      <td>report_vendor</td>\n",
       "    </tr>\n",
       "    <tr>\n",
       "      <th>8</th>\n",
       "      <td>reportt_vendor</td>\n",
       "    </tr>\n",
       "    <tr>\n",
       "      <th>9</th>\n",
       "      <td>reporttt_vendor</td>\n",
       "    </tr>\n",
       "    <tr>\n",
       "      <th>10</th>\n",
       "      <td>reviews</td>\n",
       "    </tr>\n",
       "    <tr>\n",
       "      <th>11</th>\n",
       "      <td>rport_vendor</td>\n",
       "    </tr>\n",
       "    <tr>\n",
       "      <th>12</th>\n",
       "      <td>second</td>\n",
       "    </tr>\n",
       "    <tr>\n",
       "      <th>13</th>\n",
       "      <td>second_b</td>\n",
       "    </tr>\n",
       "    <tr>\n",
       "      <th>14</th>\n",
       "      <td>visits</td>\n",
       "    </tr>\n",
       "  </tbody>\n",
       "</table>\n",
       "</div>"
      ],
      "text/plain": [
       "            table_name\n",
       "0   advertisment_costs\n",
       "1               author\n",
       "2              authors\n",
       "3                books\n",
       "4               orders\n",
       "5           publishers\n",
       "6              ratings\n",
       "7        report_vendor\n",
       "8       reportt_vendor\n",
       "9      reporttt_vendor\n",
       "10             reviews\n",
       "11        rport_vendor\n",
       "12              second\n",
       "13            second_b\n",
       "14              visits"
      ]
     },
     "metadata": {},
     "output_type": "display_data"
    }
   ],
   "source": [
    "query_tables = '''\n",
    "SELECT table_name\n",
    "FROM information_schema.tables\n",
    "WHERE table_schema = 'public';\n",
    "'''\n",
    "result_tables = pd.read_sql(query_tables, con=con)\n",
    "display(result_tables)"
   ]
  },
  {
   "cell_type": "markdown",
   "metadata": {},
   "source": [
    "Запрос для получения столбцов таблицы ratings:"
   ]
  },
  {
   "cell_type": "code",
   "execution_count": 6,
   "metadata": {},
   "outputs": [
    {
     "data": {
      "text/html": [
       "<div>\n",
       "<style scoped>\n",
       "    .dataframe tbody tr th:only-of-type {\n",
       "        vertical-align: middle;\n",
       "    }\n",
       "\n",
       "    .dataframe tbody tr th {\n",
       "        vertical-align: top;\n",
       "    }\n",
       "\n",
       "    .dataframe thead th {\n",
       "        text-align: right;\n",
       "    }\n",
       "</style>\n",
       "<table border=\"1\" class=\"dataframe\">\n",
       "  <thead>\n",
       "    <tr style=\"text-align: right;\">\n",
       "      <th></th>\n",
       "      <th>column_name</th>\n",
       "    </tr>\n",
       "  </thead>\n",
       "  <tbody>\n",
       "    <tr>\n",
       "      <th>0</th>\n",
       "      <td>rating_id</td>\n",
       "    </tr>\n",
       "    <tr>\n",
       "      <th>1</th>\n",
       "      <td>book_id</td>\n",
       "    </tr>\n",
       "    <tr>\n",
       "      <th>2</th>\n",
       "      <td>rating</td>\n",
       "    </tr>\n",
       "    <tr>\n",
       "      <th>3</th>\n",
       "      <td>username</td>\n",
       "    </tr>\n",
       "  </tbody>\n",
       "</table>\n",
       "</div>"
      ],
      "text/plain": [
       "  column_name\n",
       "0   rating_id\n",
       "1     book_id\n",
       "2      rating\n",
       "3    username"
      ]
     },
     "metadata": {},
     "output_type": "display_data"
    }
   ],
   "source": [
    "query_columns_ratings = '''\n",
    "SELECT column_name\n",
    "FROM information_schema.columns\n",
    "WHERE table_name = 'ratings';\n",
    "'''\n",
    "result_columns_ratings = pd.read_sql(query_columns_ratings, con=con)\n",
    "display(result_columns_ratings)"
   ]
  },
  {
   "cell_type": "markdown",
   "metadata": {},
   "source": [
    "Запрос для получения столбцов таблицы reviews:"
   ]
  },
  {
   "cell_type": "code",
   "execution_count": 7,
   "metadata": {},
   "outputs": [
    {
     "data": {
      "text/html": [
       "<div>\n",
       "<style scoped>\n",
       "    .dataframe tbody tr th:only-of-type {\n",
       "        vertical-align: middle;\n",
       "    }\n",
       "\n",
       "    .dataframe tbody tr th {\n",
       "        vertical-align: top;\n",
       "    }\n",
       "\n",
       "    .dataframe thead th {\n",
       "        text-align: right;\n",
       "    }\n",
       "</style>\n",
       "<table border=\"1\" class=\"dataframe\">\n",
       "  <thead>\n",
       "    <tr style=\"text-align: right;\">\n",
       "      <th></th>\n",
       "      <th>column_name</th>\n",
       "    </tr>\n",
       "  </thead>\n",
       "  <tbody>\n",
       "    <tr>\n",
       "      <th>0</th>\n",
       "      <td>review_id</td>\n",
       "    </tr>\n",
       "    <tr>\n",
       "      <th>1</th>\n",
       "      <td>book_id</td>\n",
       "    </tr>\n",
       "    <tr>\n",
       "      <th>2</th>\n",
       "      <td>username</td>\n",
       "    </tr>\n",
       "    <tr>\n",
       "      <th>3</th>\n",
       "      <td>text</td>\n",
       "    </tr>\n",
       "  </tbody>\n",
       "</table>\n",
       "</div>"
      ],
      "text/plain": [
       "  column_name\n",
       "0   review_id\n",
       "1     book_id\n",
       "2    username\n",
       "3        text"
      ]
     },
     "metadata": {},
     "output_type": "display_data"
    }
   ],
   "source": [
    "query_columns = '''\n",
    "SELECT column_name\n",
    "FROM information_schema.columns\n",
    "WHERE table_name = 'reviews';\n",
    "'''\n",
    "result_columns = pd.read_sql(query_columns, con=con)\n",
    "display(result_columns)"
   ]
  },
  {
   "cell_type": "code",
   "execution_count": 8,
   "metadata": {},
   "outputs": [],
   "source": [
    "# Функция для выполнения SQL-запросов\n",
    "def execute_query(query):\n",
    "    with engine.connect() as connection:\n",
    "        result = pd.read_sql(sql=text(query), con=connection)\n",
    "    return result"
   ]
  },
  {
   "cell_type": "code",
   "execution_count": 9,
   "metadata": {},
   "outputs": [
    {
     "name": "stdout",
     "output_type": "stream",
     "text": [
      "\n",
      "Количество уникальных review_id:\n"
     ]
    },
    {
     "data": {
      "text/html": [
       "<div>\n",
       "<style scoped>\n",
       "    .dataframe tbody tr th:only-of-type {\n",
       "        vertical-align: middle;\n",
       "    }\n",
       "\n",
       "    .dataframe tbody tr th {\n",
       "        vertical-align: top;\n",
       "    }\n",
       "\n",
       "    .dataframe thead th {\n",
       "        text-align: right;\n",
       "    }\n",
       "</style>\n",
       "<table border=\"1\" class=\"dataframe\">\n",
       "  <thead>\n",
       "    <tr style=\"text-align: right;\">\n",
       "      <th></th>\n",
       "      <th>unique_reviews_count</th>\n",
       "    </tr>\n",
       "  </thead>\n",
       "  <tbody>\n",
       "    <tr>\n",
       "      <th>0</th>\n",
       "      <td>2793</td>\n",
       "    </tr>\n",
       "  </tbody>\n",
       "</table>\n",
       "</div>"
      ],
      "text/plain": [
       "   unique_reviews_count\n",
       "0                  2793"
      ]
     },
     "metadata": {},
     "output_type": "display_data"
    }
   ],
   "source": [
    "query_columns = '''\n",
    "SELECT COUNT(DISTINCT review_id) AS unique_reviews_count\n",
    "FROM reviews;\n",
    "'''\n",
    "result_columns = execute_query(query_columns)\n",
    "print(\"\\nКоличество уникальных review_id:\")\n",
    "display(result_columns)"
   ]
  },
  {
   "cell_type": "markdown",
   "metadata": {},
   "source": [
    "### Посчитайте, сколько книг вышло после 1 января 2000 года;"
   ]
  },
  {
   "cell_type": "code",
   "execution_count": 10,
   "metadata": {},
   "outputs": [
    {
     "name": "stdout",
     "output_type": "stream",
     "text": [
      "Книг после 1 января 2000 года:\n"
     ]
    },
    {
     "data": {
      "text/html": [
       "<div>\n",
       "<style scoped>\n",
       "    .dataframe tbody tr th:only-of-type {\n",
       "        vertical-align: middle;\n",
       "    }\n",
       "\n",
       "    .dataframe tbody tr th {\n",
       "        vertical-align: top;\n",
       "    }\n",
       "\n",
       "    .dataframe thead th {\n",
       "        text-align: right;\n",
       "    }\n",
       "</style>\n",
       "<table border=\"1\" class=\"dataframe\">\n",
       "  <thead>\n",
       "    <tr style=\"text-align: right;\">\n",
       "      <th></th>\n",
       "      <th>books_after_2000</th>\n",
       "    </tr>\n",
       "  </thead>\n",
       "  <tbody>\n",
       "    <tr>\n",
       "      <th>0</th>\n",
       "      <td>819</td>\n",
       "    </tr>\n",
       "  </tbody>\n",
       "</table>\n",
       "</div>"
      ],
      "text/plain": [
       "   books_after_2000\n",
       "0               819"
      ]
     },
     "metadata": {},
     "output_type": "display_data"
    }
   ],
   "source": [
    "query_1 = '''\n",
    "SELECT COUNT(*) AS books_after_2000\n",
    "FROM books\n",
    "WHERE publication_date > '2000-01-01';\n",
    "'''\n",
    "result_1 = execute_query(query_1)\n",
    "print(\"Книг после 1 января 2000 года:\")\n",
    "display(result_1)"
   ]
  },
  {
   "cell_type": "markdown",
   "metadata": {},
   "source": [
    "### Для каждой книги посчитайте количество обзоров и среднюю оценку;"
   ]
  },
  {
   "cell_type": "code",
   "execution_count": 11,
   "metadata": {},
   "outputs": [
    {
     "name": "stdout",
     "output_type": "stream",
     "text": [
      "Количество обзоров и средняя оценка для каждой книги (отсортировано по количеству обзоров):\n"
     ]
    },
    {
     "data": {
      "text/html": [
       "<div>\n",
       "<style scoped>\n",
       "    .dataframe tbody tr th:only-of-type {\n",
       "        vertical-align: middle;\n",
       "    }\n",
       "\n",
       "    .dataframe tbody tr th {\n",
       "        vertical-align: top;\n",
       "    }\n",
       "\n",
       "    .dataframe thead th {\n",
       "        text-align: right;\n",
       "    }\n",
       "</style>\n",
       "<table border=\"1\" class=\"dataframe\">\n",
       "  <thead>\n",
       "    <tr style=\"text-align: right;\">\n",
       "      <th></th>\n",
       "      <th>title</th>\n",
       "      <th>num_reviews</th>\n",
       "      <th>avg_rating</th>\n",
       "    </tr>\n",
       "  </thead>\n",
       "  <tbody>\n",
       "    <tr>\n",
       "      <th>0</th>\n",
       "      <td>Twilight (Twilight  #1)</td>\n",
       "      <td>7</td>\n",
       "      <td>3.662500</td>\n",
       "    </tr>\n",
       "    <tr>\n",
       "      <th>1</th>\n",
       "      <td>Water for Elephants</td>\n",
       "      <td>6</td>\n",
       "      <td>3.977273</td>\n",
       "    </tr>\n",
       "    <tr>\n",
       "      <th>2</th>\n",
       "      <td>The Glass Castle</td>\n",
       "      <td>6</td>\n",
       "      <td>4.206897</td>\n",
       "    </tr>\n",
       "    <tr>\n",
       "      <th>3</th>\n",
       "      <td>Harry Potter and the Prisoner of Azkaban (Harr...</td>\n",
       "      <td>6</td>\n",
       "      <td>4.414634</td>\n",
       "    </tr>\n",
       "    <tr>\n",
       "      <th>4</th>\n",
       "      <td>The Curious Incident of the Dog in the Night-Time</td>\n",
       "      <td>6</td>\n",
       "      <td>4.081081</td>\n",
       "    </tr>\n",
       "    <tr>\n",
       "      <th>...</th>\n",
       "      <td>...</td>\n",
       "      <td>...</td>\n",
       "      <td>...</td>\n",
       "    </tr>\n",
       "    <tr>\n",
       "      <th>995</th>\n",
       "      <td>Anne Rice's The Vampire Lestat: A Graphic Novel</td>\n",
       "      <td>0</td>\n",
       "      <td>3.666667</td>\n",
       "    </tr>\n",
       "    <tr>\n",
       "      <th>996</th>\n",
       "      <td>The Natural Way to Draw</td>\n",
       "      <td>0</td>\n",
       "      <td>3.000000</td>\n",
       "    </tr>\n",
       "    <tr>\n",
       "      <th>997</th>\n",
       "      <td>The Cat in the Hat and Other Dr. Seuss Favorites</td>\n",
       "      <td>0</td>\n",
       "      <td>5.000000</td>\n",
       "    </tr>\n",
       "    <tr>\n",
       "      <th>998</th>\n",
       "      <td>Essential Tales and Poems</td>\n",
       "      <td>0</td>\n",
       "      <td>4.000000</td>\n",
       "    </tr>\n",
       "    <tr>\n",
       "      <th>999</th>\n",
       "      <td>Disney's Beauty and the Beast (A Little Golden...</td>\n",
       "      <td>0</td>\n",
       "      <td>4.000000</td>\n",
       "    </tr>\n",
       "  </tbody>\n",
       "</table>\n",
       "<p>1000 rows × 3 columns</p>\n",
       "</div>"
      ],
      "text/plain": [
       "                                                 title  num_reviews  \\\n",
       "0                              Twilight (Twilight  #1)            7   \n",
       "1                                  Water for Elephants            6   \n",
       "2                                     The Glass Castle            6   \n",
       "3    Harry Potter and the Prisoner of Azkaban (Harr...            6   \n",
       "4    The Curious Incident of the Dog in the Night-Time            6   \n",
       "..                                                 ...          ...   \n",
       "995    Anne Rice's The Vampire Lestat: A Graphic Novel            0   \n",
       "996                            The Natural Way to Draw            0   \n",
       "997   The Cat in the Hat and Other Dr. Seuss Favorites            0   \n",
       "998                          Essential Tales and Poems            0   \n",
       "999  Disney's Beauty and the Beast (A Little Golden...            0   \n",
       "\n",
       "     avg_rating  \n",
       "0      3.662500  \n",
       "1      3.977273  \n",
       "2      4.206897  \n",
       "3      4.414634  \n",
       "4      4.081081  \n",
       "..          ...  \n",
       "995    3.666667  \n",
       "996    3.000000  \n",
       "997    5.000000  \n",
       "998    4.000000  \n",
       "999    4.000000  \n",
       "\n",
       "[1000 rows x 3 columns]"
      ]
     },
     "metadata": {},
     "output_type": "display_data"
    }
   ],
   "source": [
    "query2 = \"\"\"\n",
    "SELECT \n",
    "    b.title,\n",
    "    COUNT(DISTINCT r.review_id) AS num_reviews,\n",
    "    AVG(rt.rating) AS avg_rating\n",
    "FROM books AS b\n",
    "LEFT JOIN reviews AS r ON b.book_id = r.book_id\n",
    "LEFT JOIN ratings AS rt ON b.book_id = rt.book_id\n",
    "GROUP BY b.book_id, b.title\n",
    "ORDER BY num_reviews DESC;\n",
    "\"\"\"\n",
    "result2 = pd.read_sql_query(query2, con)\n",
    "print(\"Количество обзоров и средняя оценка для каждой книги (отсортировано по количеству обзоров):\")\n",
    "display(result2)"
   ]
  },
  {
   "cell_type": "markdown",
   "metadata": {},
   "source": [
    "### Издательство с наибольшим числом книг толще 50 страниц"
   ]
  },
  {
   "cell_type": "code",
   "execution_count": 12,
   "metadata": {
    "scrolled": true
   },
   "outputs": [
    {
     "name": "stdout",
     "output_type": "stream",
     "text": [
      "\n",
      "Издательство с наибольшим числом книг толще 50 страниц:\n"
     ]
    },
    {
     "data": {
      "text/html": [
       "<div>\n",
       "<style scoped>\n",
       "    .dataframe tbody tr th:only-of-type {\n",
       "        vertical-align: middle;\n",
       "    }\n",
       "\n",
       "    .dataframe tbody tr th {\n",
       "        vertical-align: top;\n",
       "    }\n",
       "\n",
       "    .dataframe thead th {\n",
       "        text-align: right;\n",
       "    }\n",
       "</style>\n",
       "<table border=\"1\" class=\"dataframe\">\n",
       "  <thead>\n",
       "    <tr style=\"text-align: right;\">\n",
       "      <th></th>\n",
       "      <th>publisher_id</th>\n",
       "      <th>publisher_name</th>\n",
       "      <th>book_count</th>\n",
       "    </tr>\n",
       "  </thead>\n",
       "  <tbody>\n",
       "    <tr>\n",
       "      <th>0</th>\n",
       "      <td>212</td>\n",
       "      <td>Penguin Books</td>\n",
       "      <td>42</td>\n",
       "    </tr>\n",
       "  </tbody>\n",
       "</table>\n",
       "</div>"
      ],
      "text/plain": [
       "   publisher_id publisher_name  book_count\n",
       "0           212  Penguin Books          42"
      ]
     },
     "metadata": {},
     "output_type": "display_data"
    }
   ],
   "source": [
    "query_3 = '''\n",
    "SELECT \n",
    "    p.publisher_id,\n",
    "    p.publisher AS publisher_name, -- Используем корректное имя столбца\n",
    "    COUNT(b.book_id) AS book_count\n",
    "FROM books AS b\n",
    "JOIN publishers AS p ON b.publisher_id = p.publisher_id\n",
    "WHERE b.num_pages > 50\n",
    "GROUP BY p.publisher_id, p.publisher\n",
    "ORDER BY book_count DESC\n",
    "LIMIT 1;\n",
    "'''\n",
    "result_3 = execute_query(query_3)\n",
    "print(\"\\nИздательство с наибольшим числом книг толще 50 страниц:\")\n",
    "display(result_3)"
   ]
  },
  {
   "cell_type": "markdown",
   "metadata": {},
   "source": [
    "### Автор с самой высокой средней оценкой книг (учитывая только книги с 50+ оценками)"
   ]
  },
  {
   "cell_type": "code",
   "execution_count": 13,
   "metadata": {},
   "outputs": [
    {
     "name": "stdout",
     "output_type": "stream",
     "text": [
      "\n",
      "Автор с наивысшим средним рейтингом (учитывая книги с ≥ 50 оценками):\n"
     ]
    },
    {
     "data": {
      "text/html": [
       "<div>\n",
       "<style scoped>\n",
       "    .dataframe tbody tr th:only-of-type {\n",
       "        vertical-align: middle;\n",
       "    }\n",
       "\n",
       "    .dataframe tbody tr th {\n",
       "        vertical-align: top;\n",
       "    }\n",
       "\n",
       "    .dataframe thead th {\n",
       "        text-align: right;\n",
       "    }\n",
       "</style>\n",
       "<table border=\"1\" class=\"dataframe\">\n",
       "  <thead>\n",
       "    <tr style=\"text-align: right;\">\n",
       "      <th></th>\n",
       "      <th>author_id</th>\n",
       "      <th>author_name</th>\n",
       "      <th>avg_author_rating</th>\n",
       "    </tr>\n",
       "  </thead>\n",
       "  <tbody>\n",
       "    <tr>\n",
       "      <th>0</th>\n",
       "      <td>236</td>\n",
       "      <td>J.K. Rowling/Mary GrandPré</td>\n",
       "      <td>4.283844</td>\n",
       "    </tr>\n",
       "  </tbody>\n",
       "</table>\n",
       "</div>"
      ],
      "text/plain": [
       "   author_id                 author_name  avg_author_rating\n",
       "0        236  J.K. Rowling/Mary GrandPré           4.283844"
      ]
     },
     "metadata": {},
     "output_type": "display_data"
    }
   ],
   "source": [
    "query_4 = '''\n",
    "WITH filtered_books AS (\n",
    "    SELECT \n",
    "        b.book_id,\n",
    "        b.author_id,\n",
    "        AVG(rt.rating) AS avg_book_rating\n",
    "    FROM books AS b\n",
    "    JOIN ratings AS rt ON b.book_id = rt.book_id\n",
    "    GROUP BY b.book_id, b.author_id\n",
    "    HAVING COUNT(rt.rating) >= 50\n",
    "),\n",
    "author_ratings AS (\n",
    "    SELECT \n",
    "        fb.author_id,\n",
    "        AVG(fb.avg_book_rating) AS avg_author_rating\n",
    "    FROM filtered_books AS fb\n",
    "    GROUP BY fb.author_id\n",
    ")\n",
    "SELECT \n",
    "    a.author_id,\n",
    "    a.author AS author_name,\n",
    "    ar.avg_author_rating\n",
    "FROM author_ratings AS ar\n",
    "JOIN authors AS a ON ar.author_id = a.author_id\n",
    "ORDER BY ar.avg_author_rating DESC\n",
    "LIMIT 1;\n",
    "'''\n",
    "result_4 = execute_query(query_4)\n",
    "print(\"\\nАвтор с наивысшим средним рейтингом (учитывая книги с ≥ 50 оценками):\")\n",
    "display(result_4)"
   ]
  },
  {
   "cell_type": "markdown",
   "metadata": {},
   "source": [
    "### Среднее количество обзоров от пользователей, которые оставили больше 48 оценок"
   ]
  },
  {
   "cell_type": "code",
   "execution_count": 17,
   "metadata": {},
   "outputs": [
    {
     "name": "stdout",
     "output_type": "stream",
     "text": [
      "Среднее количество обзоров от пользователей, которые поставили больше 48 оценок:\n"
     ]
    },
    {
     "data": {
      "text/html": [
       "<div>\n",
       "<style scoped>\n",
       "    .dataframe tbody tr th:only-of-type {\n",
       "        vertical-align: middle;\n",
       "    }\n",
       "\n",
       "    .dataframe tbody tr th {\n",
       "        vertical-align: top;\n",
       "    }\n",
       "\n",
       "    .dataframe thead th {\n",
       "        text-align: right;\n",
       "    }\n",
       "</style>\n",
       "<table border=\"1\" class=\"dataframe\">\n",
       "  <thead>\n",
       "    <tr style=\"text-align: right;\">\n",
       "      <th></th>\n",
       "      <th>avg_reviews_per_user</th>\n",
       "    </tr>\n",
       "  </thead>\n",
       "  <tbody>\n",
       "    <tr>\n",
       "      <th>0</th>\n",
       "      <td>24.0</td>\n",
       "    </tr>\n",
       "  </tbody>\n",
       "</table>\n",
       "</div>"
      ],
      "text/plain": [
       "   avg_reviews_per_user\n",
       "0                  24.0"
      ]
     },
     "metadata": {},
     "output_type": "display_data"
    }
   ],
   "source": [
    "query5 = \"\"\"\n",
    "WITH user_rating_counts AS (\n",
    "    SELECT \n",
    "        username,\n",
    "        COUNT(*) AS num_ratings\n",
    "    FROM ratings\n",
    "    GROUP BY username\n",
    "    HAVING COUNT(*) > 48\n",
    ")\n",
    "SELECT \n",
    "    AVG(user_reviews.num_reviews) AS avg_reviews_per_user\n",
    "FROM (\n",
    "    SELECT \n",
    "        r.username,\n",
    "        COUNT(*) AS num_reviews\n",
    "    FROM reviews AS r\n",
    "    JOIN user_rating_counts AS urc ON r.username = urc.username\n",
    "    GROUP BY r.username\n",
    ") AS user_reviews;\n",
    "\"\"\"\n",
    "result5 = pd.read_sql_query(query5, con)\n",
    "print(\"Среднее количество обзоров от пользователей, которые поставили больше 48 оценок:\")\n",
    "display(result5)"
   ]
  },
  {
   "cell_type": "markdown",
   "metadata": {},
   "source": [
    "## Вывод:"
   ]
  },
  {
   "cell_type": "markdown",
   "metadata": {},
   "source": [
    "1. Число книг, выпущенных после 1 января 2000 года: \n",
    "* 819 книг\n",
    "\n",
    "\n",
    "2. Количество обзоров и средняя оценка для каждой книги: \n",
    "* Например, книга \"Twilight (Twilight #1)\" имеет 7 обзоров и среднюю оценку 3.66.\n",
    "\n",
    "\n",
    "3. Издательство с наибольшим числом книг толщиной более 50 страниц: \n",
    "* Мы определили, что издательство Penguin Books выпустило наибольшее количество книг (42 книги), которые превышают 50 страниц, исключая брошюры.\n",
    "\n",
    "\n",
    "4. Автор с самой высокой средней оценкой книг: \n",
    "* По результатам анализа, автор J.K. Rowling/Mary GrandPré имеет наибольшее количество обзоров для своих книг.\n",
    "\n",
    "\n",
    "5. Среднее количество обзоров от пользователей, оставивших больше 48 оценок: \n",
    "*  Среднее количество оценок составляет 24."
   ]
  }
 ],
 "metadata": {
  "ExecuteTimeLog": [
   {
    "duration": 9077,
    "start_time": "2024-12-22T12:08:03.027Z"
   },
   {
    "duration": 3,
    "start_time": "2024-12-22T12:08:39.432Z"
   },
   {
    "duration": 3,
    "start_time": "2024-12-22T12:08:40.236Z"
   },
   {
    "duration": 3,
    "start_time": "2024-12-22T12:08:41.742Z"
   },
   {
    "duration": 72,
    "start_time": "2024-12-22T12:08:42.639Z"
   },
   {
    "duration": 125,
    "start_time": "2024-12-22T12:40:15.044Z"
   },
   {
    "duration": 51,
    "start_time": "2024-12-22T12:40:25.019Z"
   },
   {
    "duration": 2,
    "start_time": "2024-12-22T12:48:53.442Z"
   },
   {
    "duration": 2,
    "start_time": "2024-12-22T12:53:28.191Z"
   },
   {
    "duration": 3,
    "start_time": "2024-12-22T12:53:28.652Z"
   },
   {
    "duration": 4,
    "start_time": "2024-12-22T12:53:30.605Z"
   },
   {
    "duration": 50,
    "start_time": "2024-12-22T12:53:31.140Z"
   },
   {
    "duration": 54,
    "start_time": "2024-12-22T12:55:45.915Z"
   },
   {
    "duration": 3,
    "start_time": "2024-12-22T12:56:33.153Z"
   },
   {
    "duration": 41,
    "start_time": "2024-12-22T12:56:56.366Z"
   },
   {
    "duration": 23,
    "start_time": "2024-12-22T12:57:08.340Z"
   },
   {
    "duration": 19,
    "start_time": "2024-12-22T12:57:51.441Z"
   },
   {
    "duration": 17,
    "start_time": "2024-12-22T12:58:47.886Z"
   },
   {
    "duration": 19,
    "start_time": "2024-12-22T12:59:34.332Z"
   },
   {
    "duration": 17,
    "start_time": "2024-12-22T13:00:04.929Z"
   },
   {
    "duration": 21,
    "start_time": "2024-12-22T13:01:02.417Z"
   },
   {
    "duration": 22,
    "start_time": "2024-12-22T13:01:47.329Z"
   },
   {
    "duration": 21,
    "start_time": "2024-12-22T13:02:22.923Z"
   },
   {
    "duration": 8,
    "start_time": "2024-12-22T13:03:29.986Z"
   },
   {
    "duration": 8,
    "start_time": "2024-12-22T13:03:36.477Z"
   },
   {
    "duration": 14,
    "start_time": "2024-12-22T13:03:57.767Z"
   },
   {
    "duration": 16,
    "start_time": "2024-12-22T13:04:05.705Z"
   },
   {
    "duration": 15,
    "start_time": "2024-12-22T13:04:19.169Z"
   },
   {
    "duration": 10,
    "start_time": "2024-12-22T13:04:25.907Z"
   },
   {
    "duration": 13,
    "start_time": "2024-12-22T13:04:31.851Z"
   },
   {
    "duration": 17,
    "start_time": "2024-12-22T13:04:40.993Z"
   },
   {
    "duration": 10,
    "start_time": "2024-12-22T13:04:58.755Z"
   },
   {
    "duration": 22,
    "start_time": "2024-12-22T13:06:38.913Z"
   },
   {
    "duration": 9,
    "start_time": "2024-12-22T13:08:24.728Z"
   },
   {
    "duration": 10,
    "start_time": "2024-12-22T13:08:48.301Z"
   },
   {
    "duration": 11,
    "start_time": "2024-12-22T13:08:55.867Z"
   },
   {
    "duration": 12,
    "start_time": "2024-12-22T13:09:18.199Z"
   },
   {
    "duration": 8,
    "start_time": "2024-12-22T13:09:54.487Z"
   },
   {
    "duration": 12,
    "start_time": "2024-12-22T13:10:14.932Z"
   },
   {
    "duration": 9,
    "start_time": "2024-12-22T13:10:34.955Z"
   },
   {
    "duration": 9,
    "start_time": "2024-12-22T13:11:12.261Z"
   },
   {
    "duration": 11,
    "start_time": "2024-12-22T13:11:56.026Z"
   },
   {
    "duration": 14,
    "start_time": "2024-12-22T13:12:16.066Z"
   },
   {
    "duration": 13,
    "start_time": "2024-12-22T13:12:20.829Z"
   },
   {
    "duration": 10,
    "start_time": "2024-12-22T13:12:22.175Z"
   },
   {
    "duration": 9,
    "start_time": "2024-12-22T13:12:47.254Z"
   },
   {
    "duration": 7,
    "start_time": "2024-12-22T13:14:17.950Z"
   },
   {
    "duration": 11,
    "start_time": "2024-12-22T13:14:50.241Z"
   },
   {
    "duration": 7,
    "start_time": "2024-12-22T13:14:52.095Z"
   },
   {
    "duration": 3,
    "start_time": "2024-12-22T13:14:57.667Z"
   },
   {
    "duration": 10,
    "start_time": "2024-12-22T13:14:58.936Z"
   },
   {
    "duration": 24,
    "start_time": "2024-12-22T13:15:00.911Z"
   },
   {
    "duration": 12,
    "start_time": "2024-12-22T13:15:02.414Z"
   },
   {
    "duration": 21,
    "start_time": "2024-12-22T13:17:25.142Z"
   },
   {
    "duration": 13,
    "start_time": "2024-12-22T13:17:48.326Z"
   },
   {
    "duration": 9,
    "start_time": "2024-12-22T13:18:18.737Z"
   },
   {
    "duration": 9,
    "start_time": "2024-12-22T13:19:12.446Z"
   },
   {
    "duration": 11,
    "start_time": "2024-12-22T13:19:18.338Z"
   },
   {
    "duration": 2,
    "start_time": "2024-12-22T13:19:31.354Z"
   },
   {
    "duration": 10,
    "start_time": "2024-12-22T13:19:32.161Z"
   },
   {
    "duration": 22,
    "start_time": "2024-12-22T13:19:33.452Z"
   },
   {
    "duration": 12,
    "start_time": "2024-12-22T13:20:02.215Z"
   },
   {
    "duration": 3,
    "start_time": "2024-12-22T13:20:25.982Z"
   },
   {
    "duration": 12,
    "start_time": "2024-12-22T13:20:26.625Z"
   },
   {
    "duration": 20,
    "start_time": "2024-12-22T13:20:27.575Z"
   },
   {
    "duration": 26,
    "start_time": "2024-12-22T13:20:38.135Z"
   },
   {
    "duration": 9,
    "start_time": "2024-12-22T13:20:52.091Z"
   },
   {
    "duration": 10,
    "start_time": "2024-12-22T13:21:03.817Z"
   },
   {
    "duration": 26,
    "start_time": "2024-12-22T13:21:06.488Z"
   },
   {
    "duration": 12,
    "start_time": "2024-12-22T13:21:10.880Z"
   },
   {
    "duration": 12,
    "start_time": "2024-12-22T13:21:14.048Z"
   },
   {
    "duration": 11,
    "start_time": "2024-12-22T13:21:17.555Z"
   },
   {
    "duration": 61,
    "start_time": "2024-12-22T13:21:59.569Z"
   },
   {
    "duration": 9,
    "start_time": "2024-12-22T13:22:32.004Z"
   },
   {
    "duration": 7,
    "start_time": "2024-12-22T13:22:48.093Z"
   },
   {
    "duration": 10,
    "start_time": "2024-12-22T13:23:07.685Z"
   },
   {
    "duration": 6,
    "start_time": "2024-12-22T13:23:44.158Z"
   },
   {
    "duration": 9,
    "start_time": "2024-12-22T13:24:35.382Z"
   },
   {
    "duration": 11,
    "start_time": "2024-12-22T13:25:01.963Z"
   },
   {
    "duration": 11,
    "start_time": "2024-12-22T13:25:31.042Z"
   },
   {
    "duration": 11,
    "start_time": "2024-12-22T13:25:34.310Z"
   },
   {
    "duration": 12,
    "start_time": "2024-12-22T13:26:35.664Z"
   },
   {
    "duration": 503,
    "start_time": "2024-12-22T13:29:05.871Z"
   },
   {
    "duration": 3,
    "start_time": "2024-12-22T13:29:06.376Z"
   },
   {
    "duration": 7317,
    "start_time": "2024-12-22T13:29:06.380Z"
   },
   {
    "duration": 51,
    "start_time": "2024-12-22T13:29:13.699Z"
   },
   {
    "duration": 67,
    "start_time": "2024-12-22T13:29:13.752Z"
   },
   {
    "duration": 0,
    "start_time": "2024-12-22T13:29:13.820Z"
   },
   {
    "duration": 0,
    "start_time": "2024-12-22T13:29:13.821Z"
   },
   {
    "duration": 0,
    "start_time": "2024-12-22T13:29:13.822Z"
   },
   {
    "duration": 0,
    "start_time": "2024-12-22T13:29:13.824Z"
   },
   {
    "duration": 0,
    "start_time": "2024-12-22T13:29:13.824Z"
   },
   {
    "duration": 0,
    "start_time": "2024-12-22T13:29:13.846Z"
   },
   {
    "duration": 0,
    "start_time": "2024-12-22T13:29:13.847Z"
   },
   {
    "duration": 3,
    "start_time": "2024-12-22T13:29:30.134Z"
   },
   {
    "duration": 46,
    "start_time": "2024-12-22T13:29:32.452Z"
   },
   {
    "duration": 29,
    "start_time": "2024-12-22T13:29:32.754Z"
   },
   {
    "duration": 12,
    "start_time": "2024-12-22T13:29:33.073Z"
   },
   {
    "duration": 13,
    "start_time": "2024-12-22T13:29:33.383Z"
   },
   {
    "duration": 11,
    "start_time": "2024-12-22T13:29:33.692Z"
   },
   {
    "duration": 11,
    "start_time": "2024-12-22T13:29:33.976Z"
   },
   {
    "duration": 59,
    "start_time": "2024-12-22T13:29:34.379Z"
   },
   {
    "duration": 11,
    "start_time": "2024-12-22T13:29:34.460Z"
   },
   {
    "duration": 11,
    "start_time": "2024-12-22T13:30:12.036Z"
   },
   {
    "duration": 12,
    "start_time": "2024-12-22T13:30:55.422Z"
   },
   {
    "duration": 13,
    "start_time": "2024-12-22T13:31:11.835Z"
   },
   {
    "duration": 3,
    "start_time": "2024-12-22T13:31:27.125Z"
   },
   {
    "duration": 11,
    "start_time": "2024-12-22T13:32:23.386Z"
   },
   {
    "duration": 11,
    "start_time": "2024-12-22T13:32:29.719Z"
   },
   {
    "duration": 11,
    "start_time": "2024-12-22T13:32:35.404Z"
   },
   {
    "duration": 4,
    "start_time": "2024-12-22T13:32:40.712Z"
   },
   {
    "duration": 12,
    "start_time": "2024-12-22T13:32:41.425Z"
   },
   {
    "duration": 29,
    "start_time": "2024-12-22T13:32:41.760Z"
   },
   {
    "duration": 14,
    "start_time": "2024-12-22T13:32:42.196Z"
   },
   {
    "duration": 14,
    "start_time": "2024-12-22T13:32:42.778Z"
   },
   {
    "duration": 11,
    "start_time": "2024-12-22T13:32:43.146Z"
   },
   {
    "duration": 56,
    "start_time": "2024-12-22T13:34:47.427Z"
   },
   {
    "duration": 526,
    "start_time": "2024-12-22T17:55:50.338Z"
   },
   {
    "duration": 3,
    "start_time": "2024-12-22T17:55:50.866Z"
   },
   {
    "duration": 11195,
    "start_time": "2024-12-22T17:55:50.870Z"
   },
   {
    "duration": 224,
    "start_time": "2024-12-22T17:56:02.066Z"
   },
   {
    "duration": 67,
    "start_time": "2024-12-22T17:56:02.293Z"
   },
   {
    "duration": 0,
    "start_time": "2024-12-22T17:56:02.362Z"
   },
   {
    "duration": 0,
    "start_time": "2024-12-22T17:56:02.363Z"
   },
   {
    "duration": 0,
    "start_time": "2024-12-22T17:56:02.365Z"
   },
   {
    "duration": 0,
    "start_time": "2024-12-22T17:56:02.366Z"
   },
   {
    "duration": 0,
    "start_time": "2024-12-22T17:56:02.367Z"
   },
   {
    "duration": 0,
    "start_time": "2024-12-22T17:56:02.369Z"
   },
   {
    "duration": 0,
    "start_time": "2024-12-22T17:56:02.370Z"
   },
   {
    "duration": 0,
    "start_time": "2024-12-22T17:56:02.371Z"
   },
   {
    "duration": 0,
    "start_time": "2024-12-22T17:56:02.372Z"
   },
   {
    "duration": 0,
    "start_time": "2024-12-22T17:56:02.373Z"
   },
   {
    "duration": 540,
    "start_time": "2024-12-23T12:42:45.275Z"
   },
   {
    "duration": 3,
    "start_time": "2024-12-23T12:42:45.949Z"
   },
   {
    "duration": 10009,
    "start_time": "2024-12-23T12:42:46.653Z"
   },
   {
    "duration": 232,
    "start_time": "2024-12-23T12:42:56.663Z"
   },
   {
    "duration": 77,
    "start_time": "2024-12-23T12:42:56.897Z"
   },
   {
    "duration": 7,
    "start_time": "2024-12-23T12:44:37.501Z"
   },
   {
    "duration": 9,
    "start_time": "2024-12-23T12:44:52.830Z"
   },
   {
    "duration": 8,
    "start_time": "2024-12-23T12:44:54.607Z"
   },
   {
    "duration": 7,
    "start_time": "2024-12-23T12:46:21.461Z"
   },
   {
    "duration": 8,
    "start_time": "2024-12-23T12:46:23.007Z"
   },
   {
    "duration": 142,
    "start_time": "2024-12-23T12:48:09.120Z"
   },
   {
    "duration": 9,
    "start_time": "2024-12-23T12:48:12.521Z"
   },
   {
    "duration": 4,
    "start_time": "2024-12-23T12:48:32.026Z"
   },
   {
    "duration": 8,
    "start_time": "2024-12-23T12:50:14.828Z"
   },
   {
    "duration": 33,
    "start_time": "2024-12-23T12:51:07.287Z"
   },
   {
    "duration": 3,
    "start_time": "2024-12-23T12:51:21.878Z"
   },
   {
    "duration": 3,
    "start_time": "2024-12-23T12:51:22.241Z"
   },
   {
    "duration": 3,
    "start_time": "2024-12-23T12:51:22.636Z"
   },
   {
    "duration": 240,
    "start_time": "2024-12-23T12:51:23.045Z"
   },
   {
    "duration": 32,
    "start_time": "2024-12-23T12:51:23.838Z"
   },
   {
    "duration": 7,
    "start_time": "2024-12-23T12:51:25.183Z"
   },
   {
    "duration": 7,
    "start_time": "2024-12-23T12:51:26.403Z"
   },
   {
    "duration": 3,
    "start_time": "2024-12-23T12:51:27.319Z"
   },
   {
    "duration": 121,
    "start_time": "2024-12-23T12:51:28.302Z"
   },
   {
    "duration": 93,
    "start_time": "2024-12-23T12:51:29.742Z"
   },
   {
    "duration": 55,
    "start_time": "2024-12-23T12:51:30.790Z"
   },
   {
    "duration": 56,
    "start_time": "2024-12-23T12:51:31.639Z"
   },
   {
    "duration": 55,
    "start_time": "2024-12-23T12:51:32.772Z"
   },
   {
    "duration": 58,
    "start_time": "2024-12-23T12:51:33.695Z"
   },
   {
    "duration": 53,
    "start_time": "2024-12-23T12:51:35.208Z"
   },
   {
    "duration": 7,
    "start_time": "2024-12-23T12:52:06.772Z"
   },
   {
    "duration": 35,
    "start_time": "2024-12-23T12:52:34.370Z"
   },
   {
    "duration": 32,
    "start_time": "2024-12-23T12:53:03.806Z"
   },
   {
    "duration": 4,
    "start_time": "2024-12-23T12:53:12.273Z"
   },
   {
    "duration": 52,
    "start_time": "2024-12-23T12:53:15.235Z"
   },
   {
    "duration": 93,
    "start_time": "2024-12-23T12:53:17.156Z"
   },
   {
    "duration": 54,
    "start_time": "2024-12-23T12:53:18.471Z"
   },
   {
    "duration": 55,
    "start_time": "2024-12-23T12:53:19.519Z"
   },
   {
    "duration": 52,
    "start_time": "2024-12-23T12:53:20.651Z"
   },
   {
    "duration": 54,
    "start_time": "2024-12-23T12:53:21.676Z"
   },
   {
    "duration": 52,
    "start_time": "2024-12-23T12:53:23.142Z"
   },
   {
    "duration": 577,
    "start_time": "2024-12-23T12:53:29.517Z"
   },
   {
    "duration": 3,
    "start_time": "2024-12-23T12:53:30.096Z"
   },
   {
    "duration": 11015,
    "start_time": "2024-12-23T12:53:30.101Z"
   },
   {
    "duration": 219,
    "start_time": "2024-12-23T12:53:41.119Z"
   },
   {
    "duration": 31,
    "start_time": "2024-12-23T12:53:41.339Z"
   },
   {
    "duration": 31,
    "start_time": "2024-12-23T12:53:41.371Z"
   },
   {
    "duration": 32,
    "start_time": "2024-12-23T12:53:41.404Z"
   },
   {
    "duration": 3,
    "start_time": "2024-12-23T12:53:41.438Z"
   },
   {
    "duration": 125,
    "start_time": "2024-12-23T12:53:41.442Z"
   },
   {
    "duration": 90,
    "start_time": "2024-12-23T12:53:41.570Z"
   },
   {
    "duration": 54,
    "start_time": "2024-12-23T12:53:41.662Z"
   },
   {
    "duration": 55,
    "start_time": "2024-12-23T12:53:41.718Z"
   },
   {
    "duration": 54,
    "start_time": "2024-12-23T12:53:41.775Z"
   },
   {
    "duration": 53,
    "start_time": "2024-12-23T12:53:41.831Z"
   },
   {
    "duration": 54,
    "start_time": "2024-12-23T12:53:41.886Z"
   },
   {
    "duration": 31,
    "start_time": "2024-12-23T12:54:44.828Z"
   },
   {
    "duration": 31,
    "start_time": "2024-12-23T12:54:45.469Z"
   },
   {
    "duration": 3,
    "start_time": "2024-12-23T12:54:45.665Z"
   },
   {
    "duration": 52,
    "start_time": "2024-12-23T12:54:46.025Z"
   },
   {
    "duration": 90,
    "start_time": "2024-12-23T12:54:46.361Z"
   },
   {
    "duration": 54,
    "start_time": "2024-12-23T12:54:46.714Z"
   },
   {
    "duration": 56,
    "start_time": "2024-12-23T12:54:47.072Z"
   },
   {
    "duration": 53,
    "start_time": "2024-12-23T12:54:47.435Z"
   },
   {
    "duration": 52,
    "start_time": "2024-12-23T12:54:47.814Z"
   },
   {
    "duration": 53,
    "start_time": "2024-12-23T12:54:48.342Z"
   },
   {
    "duration": 484,
    "start_time": "2024-12-23T14:44:52.783Z"
   },
   {
    "duration": 3,
    "start_time": "2024-12-23T14:44:53.268Z"
   },
   {
    "duration": 10754,
    "start_time": "2024-12-23T14:44:53.273Z"
   },
   {
    "duration": 242,
    "start_time": "2024-12-23T14:45:04.028Z"
   },
   {
    "duration": 32,
    "start_time": "2024-12-23T14:45:04.272Z"
   },
   {
    "duration": 34,
    "start_time": "2024-12-23T14:45:04.306Z"
   },
   {
    "duration": 40,
    "start_time": "2024-12-23T14:45:04.341Z"
   },
   {
    "duration": 4,
    "start_time": "2024-12-23T14:45:04.383Z"
   },
   {
    "duration": 150,
    "start_time": "2024-12-23T14:45:04.389Z"
   },
   {
    "duration": 90,
    "start_time": "2024-12-23T14:45:04.540Z"
   },
   {
    "duration": 52,
    "start_time": "2024-12-23T14:45:04.632Z"
   },
   {
    "duration": 53,
    "start_time": "2024-12-23T14:45:04.686Z"
   },
   {
    "duration": 52,
    "start_time": "2024-12-23T14:45:04.741Z"
   },
   {
    "duration": 51,
    "start_time": "2024-12-23T14:45:04.795Z"
   },
   {
    "duration": 52,
    "start_time": "2024-12-23T14:45:04.848Z"
   },
   {
    "duration": 507,
    "start_time": "2024-12-24T06:10:49.811Z"
   },
   {
    "duration": 3,
    "start_time": "2024-12-24T06:10:50.320Z"
   },
   {
    "duration": 7862,
    "start_time": "2024-12-24T06:10:50.324Z"
   },
   {
    "duration": 60,
    "start_time": "2024-12-24T06:10:58.188Z"
   },
   {
    "duration": 8,
    "start_time": "2024-12-24T06:10:58.250Z"
   },
   {
    "duration": 11,
    "start_time": "2024-12-24T06:10:58.260Z"
   },
   {
    "duration": 8,
    "start_time": "2024-12-24T06:10:58.272Z"
   },
   {
    "duration": 5,
    "start_time": "2024-12-24T06:10:58.281Z"
   },
   {
    "duration": 66,
    "start_time": "2024-12-24T06:10:58.288Z"
   },
   {
    "duration": 19,
    "start_time": "2024-12-24T06:10:58.356Z"
   },
   {
    "duration": 11,
    "start_time": "2024-12-24T06:10:58.376Z"
   },
   {
    "duration": 12,
    "start_time": "2024-12-24T06:10:58.388Z"
   },
   {
    "duration": 11,
    "start_time": "2024-12-24T06:10:58.401Z"
   },
   {
    "duration": 36,
    "start_time": "2024-12-24T06:10:58.413Z"
   },
   {
    "duration": 15,
    "start_time": "2024-12-24T06:10:58.451Z"
   },
   {
    "duration": 65,
    "start_time": "2024-12-24T06:31:39.484Z"
   },
   {
    "duration": 9,
    "start_time": "2024-12-24T06:33:27.405Z"
   },
   {
    "duration": 26,
    "start_time": "2024-12-24T06:33:43.740Z"
   },
   {
    "duration": 12,
    "start_time": "2024-12-24T06:33:48.367Z"
   },
   {
    "duration": 11,
    "start_time": "2024-12-24T06:34:28.404Z"
   },
   {
    "duration": 17,
    "start_time": "2024-12-24T06:36:17.611Z"
   },
   {
    "duration": 12,
    "start_time": "2024-12-24T06:37:13.789Z"
   },
   {
    "duration": 512,
    "start_time": "2024-12-24T06:37:22.138Z"
   },
   {
    "duration": 2,
    "start_time": "2024-12-24T06:37:22.653Z"
   },
   {
    "duration": 7337,
    "start_time": "2024-12-24T06:37:22.656Z"
   },
   {
    "duration": 69,
    "start_time": "2024-12-24T06:37:29.995Z"
   },
   {
    "duration": 9,
    "start_time": "2024-12-24T06:37:30.066Z"
   },
   {
    "duration": 45,
    "start_time": "2024-12-24T06:37:30.076Z"
   },
   {
    "duration": 57,
    "start_time": "2024-12-24T06:37:30.122Z"
   },
   {
    "duration": 101,
    "start_time": "2024-12-24T06:37:30.181Z"
   },
   {
    "duration": 155,
    "start_time": "2024-12-24T06:37:30.283Z"
   },
   {
    "duration": 52,
    "start_time": "2024-12-24T06:37:30.439Z"
   },
   {
    "duration": 173,
    "start_time": "2024-12-24T06:37:30.493Z"
   },
   {
    "duration": 59,
    "start_time": "2024-12-24T06:37:30.667Z"
   },
   {
    "duration": 45,
    "start_time": "2024-12-24T06:37:30.727Z"
   },
   {
    "duration": 43,
    "start_time": "2024-12-24T06:37:30.774Z"
   },
   {
    "duration": 44,
    "start_time": "2024-12-24T06:37:30.819Z"
   },
   {
    "duration": 48,
    "start_time": "2024-12-24T06:37:30.865Z"
   },
   {
    "duration": 35,
    "start_time": "2024-12-24T06:37:30.915Z"
   },
   {
    "duration": 25,
    "start_time": "2024-12-24T06:39:36.113Z"
   },
   {
    "duration": 10,
    "start_time": "2024-12-24T06:44:46.166Z"
   },
   {
    "duration": 11,
    "start_time": "2024-12-24T06:45:04.595Z"
   },
   {
    "duration": 10,
    "start_time": "2024-12-24T06:45:07.515Z"
   },
   {
    "duration": 10,
    "start_time": "2024-12-24T06:49:15.255Z"
   },
   {
    "duration": 16,
    "start_time": "2024-12-24T06:49:19.849Z"
   },
   {
    "duration": 460,
    "start_time": "2024-12-24T06:49:26.002Z"
   },
   {
    "duration": 3,
    "start_time": "2024-12-24T06:49:26.465Z"
   },
   {
    "duration": 7191,
    "start_time": "2024-12-24T06:49:26.469Z"
   },
   {
    "duration": 67,
    "start_time": "2024-12-24T06:49:33.662Z"
   },
   {
    "duration": 8,
    "start_time": "2024-12-24T06:49:33.731Z"
   },
   {
    "duration": 15,
    "start_time": "2024-12-24T06:49:33.740Z"
   },
   {
    "duration": 19,
    "start_time": "2024-12-24T06:49:33.756Z"
   },
   {
    "duration": 97,
    "start_time": "2024-12-24T06:49:33.776Z"
   },
   {
    "duration": 0,
    "start_time": "2024-12-24T06:49:33.875Z"
   },
   {
    "duration": 0,
    "start_time": "2024-12-24T06:49:33.877Z"
   },
   {
    "duration": 0,
    "start_time": "2024-12-24T06:49:33.878Z"
   },
   {
    "duration": 0,
    "start_time": "2024-12-24T06:49:33.881Z"
   },
   {
    "duration": 0,
    "start_time": "2024-12-24T06:49:33.882Z"
   },
   {
    "duration": 0,
    "start_time": "2024-12-24T06:49:33.883Z"
   },
   {
    "duration": 0,
    "start_time": "2024-12-24T06:49:33.885Z"
   },
   {
    "duration": 0,
    "start_time": "2024-12-24T06:49:33.887Z"
   },
   {
    "duration": 7,
    "start_time": "2024-12-24T06:49:46.297Z"
   },
   {
    "duration": 3,
    "start_time": "2024-12-24T06:50:16.747Z"
   },
   {
    "duration": 79,
    "start_time": "2024-12-24T06:50:19.311Z"
   },
   {
    "duration": 457,
    "start_time": "2024-12-24T06:50:25.396Z"
   },
   {
    "duration": 3,
    "start_time": "2024-12-24T06:50:25.855Z"
   },
   {
    "duration": 8329,
    "start_time": "2024-12-24T06:50:25.859Z"
   },
   {
    "duration": 52,
    "start_time": "2024-12-24T06:50:34.190Z"
   },
   {
    "duration": 10,
    "start_time": "2024-12-24T06:50:34.243Z"
   },
   {
    "duration": 33,
    "start_time": "2024-12-24T06:50:34.254Z"
   },
   {
    "duration": 22,
    "start_time": "2024-12-24T06:50:34.289Z"
   },
   {
    "duration": 15,
    "start_time": "2024-12-24T06:50:34.312Z"
   },
   {
    "duration": 51,
    "start_time": "2024-12-24T06:50:34.329Z"
   },
   {
    "duration": 9,
    "start_time": "2024-12-24T06:50:34.382Z"
   },
   {
    "duration": 40,
    "start_time": "2024-12-24T06:50:34.392Z"
   },
   {
    "duration": 20,
    "start_time": "2024-12-24T06:50:34.434Z"
   },
   {
    "duration": 13,
    "start_time": "2024-12-24T06:50:34.456Z"
   },
   {
    "duration": 12,
    "start_time": "2024-12-24T06:50:34.470Z"
   },
   {
    "duration": 34,
    "start_time": "2024-12-24T06:50:34.483Z"
   },
   {
    "duration": 13,
    "start_time": "2024-12-24T06:50:34.519Z"
   },
   {
    "duration": 11,
    "start_time": "2024-12-24T06:53:25.221Z"
   },
   {
    "duration": 60,
    "start_time": "2024-12-24T06:54:42.601Z"
   }
  ],
  "kernelspec": {
   "display_name": "Python 3 (ipykernel)",
   "language": "python",
   "name": "python3"
  },
  "language_info": {
   "codemirror_mode": {
    "name": "ipython",
    "version": 3
   },
   "file_extension": ".py",
   "mimetype": "text/x-python",
   "name": "python",
   "nbconvert_exporter": "python",
   "pygments_lexer": "ipython3",
   "version": "3.9.5"
  },
  "toc": {
   "base_numbering": 1,
   "nav_menu": {},
   "number_sections": true,
   "sideBar": true,
   "skip_h1_title": true,
   "title_cell": "Table of Contents",
   "title_sidebar": "Contents",
   "toc_cell": false,
   "toc_position": {},
   "toc_section_display": true,
   "toc_window_display": true
  }
 },
 "nbformat": 4,
 "nbformat_minor": 2
}
